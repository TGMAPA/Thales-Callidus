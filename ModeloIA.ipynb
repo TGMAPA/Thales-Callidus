{
  "cells": [
    {
      "cell_type": "markdown",
      "metadata": {
        "id": "Qw70ghT_djGD"
      },
      "source": [
        "# Importación de Librebrías"
      ]
    },
    {
      "cell_type": "code",
      "execution_count": 45,
      "metadata": {
        "colab": {
          "base_uri": "https://localhost:8080/"
        },
        "id": "dWXzkhpgcjYj",
        "outputId": "fa47bfa6-18e1-4474-f2dd-5d957a2a3b2b"
      },
      "outputs": [
        {
          "output_type": "stream",
          "name": "stdout",
          "text": [
            "Requirement already satisfied: keras in /usr/local/lib/python3.10/dist-packages (2.15.0)\n"
          ]
        }
      ],
      "source": [
        "!pip install keras\n",
        "\n",
        "import keras\n",
        "from matplotlib import pyplot as plt\n",
        "import pandas as pd\n",
        "import numpy as np\n",
        "from datetime import datetime, date\n",
        "from tensorflow.keras.models import Sequential\n",
        "from tensorflow.keras.layers import Dense, Dropout, BatchNormalization\n",
        "from tensorflow.keras.losses import categorical_crossentropy\n",
        "from tensorflow.keras.activations import softmax,tanh\n",
        "from tensorflow.keras.optimizers import Adam\n",
        "from sklearn.model_selection import KFold\n",
        "from sklearn.model_selection import train_test_split\n",
        "\n",
        "from tensorflow.keras.utils import to_categorical"
      ]
    },
    {
      "cell_type": "markdown",
      "metadata": {
        "id": "DPC9vJCAdqHe"
      },
      "source": [
        "# Carga y Limpieza de la Base de Datos"
      ]
    },
    {
      "cell_type": "code",
      "execution_count": 31,
      "metadata": {
        "id": "bFbuBK-Fdu2Q"
      },
      "outputs": [],
      "source": [
        "baseDatos = pd.read_csv(\"/content/clnData_1.csv\")\n",
        "\n",
        "baseDatos = baseDatos.drop_duplicates()"
      ]
    },
    {
      "cell_type": "markdown",
      "metadata": {
        "id": "dog20V0chNsE"
      },
      "source": [
        "# Codificación de Tipos de Datos"
      ]
    },
    {
      "cell_type": "code",
      "execution_count": 3,
      "metadata": {
        "id": "uOUB7jPBhR4w"
      },
      "outputs": [],
      "source": [
        "#A cada mes se le da un valor entre 1 y 12\n",
        "\n",
        "MESES = {'enero':1/12,'febrero':2/12,'marzo':3/12,'abril':4/12,'mayo':5/12,'junio':6/12,'julio':7/12,'agosto':8/12,'septiembre':9/12,'octubre':10/12,'noviembre':11/12,\"diciembre\":1}\n",
        "\n",
        "baseDatos.dropna(inplace = True,subset=['fecha_hecho','hora_hecho','latitud', 'longitud'])\n",
        "baseDatos = baseDatos.apply(lambda x: x.astype(str).str.lower())\n",
        "baseDatos['mes_hecho'] = baseDatos['mes_hecho'].map(MESES)\n",
        "\n",
        "#Se crean tres columnas: hora, minuto y segundo\n",
        "\n",
        "tiemposStr = baseDatos.loc[:,[\"hora_hecho\",\"fecha_hecho\"]]\n",
        "tiemposDate = [[],[],[]]\n",
        "fueDiaFestivo = []\n",
        "fueFinSemana = []\n",
        "dias = []\n",
        "\n",
        "#Días festivos\n",
        "diasFestivos = [\n",
        "    datetime(2024, 1, 1),   # Año Nuevo\n",
        "    datetime(2024, 2, 5),   # Aniversario de la Constitución de 1917\n",
        "    datetime(2024, 3, 18),  # Natalicio de Benito Juárez\n",
        "    datetime(2024, 5, 1),   # Día Internacional de los Trabajadores\n",
        "    datetime(2024, 6, 2),   # Elecciones federales y locales\n",
        "    datetime(2024, 9, 16),  # Día de la Independencia\n",
        "    datetime(2024, 10, 1),  # Día de la transmisión del Poder Ejecutivo Federal\n",
        "    datetime(2024, 11, 18), # Día de la Revolución Mexicana\n",
        "    datetime(2024, 12, 25)  # Navidad\n",
        "]\n",
        "\n",
        "for i in range(len(tiemposStr.index)):\n",
        "  tiempo = datetime.strptime(tiemposStr.iloc[i]['hora_hecho'], '%H:%M:%S')\n",
        "  tiemposDate[0].append(tiempo.hour/23)\n",
        "  tiemposDate[1].append(tiempo.minute/59)\n",
        "  tiemposDate[2].append(tiempo.second/59)\n",
        "\n",
        "  fecha = datetime.strptime(tiemposStr.iloc[i].loc['fecha_hecho'], '%Y-%m-%d')\n",
        "\n",
        "  if(fecha.weekday() > 4):\n",
        "    fueFinSemana.append(1)\n",
        "  else:\n",
        "    fueFinSemana.append(0)\n",
        "\n",
        "  dias.append((fecha.weekday()+1) / 7)\n",
        "\n",
        "  fecha = fecha.replace(2024)\n",
        "\n",
        "  if fecha in diasFestivos:\n",
        "    fueDiaFestivo.append(1)\n",
        "  else:\n",
        "    fueDiaFestivo.append(0)\n",
        "\n",
        "baseDatos[\"fueDiaFestivo\"] = fueDiaFestivo\n",
        "baseDatos[\"hora_hecho\"] = tiemposDate[0]\n",
        "baseDatos[\"minutos_hecho\"] = tiemposDate[1]\n",
        "baseDatos[\"segundos_hecho\"] = tiemposDate[2]\n",
        "baseDatos[\"finSemana\"] = fueFinSemana\n",
        "baseDatos['dia_hecho'] = dias"
      ]
    },
    {
      "cell_type": "markdown",
      "metadata": {
        "id": "uwuaB5ZJCZlb"
      },
      "source": [
        "# Tratamiento de Datos para Entrenamiento"
      ]
    },
    {
      "cell_type": "code",
      "execution_count": 4,
      "metadata": {
        "id": "dVUwOb_ICfu4"
      },
      "outputs": [],
      "source": [
        "def circularizar(a : float):\n",
        "  x = (np.sin(2 * np.pi * a) + 1) / 2\n",
        "  y = (np.cos(2 * np.pi * a) + 1) / 2\n",
        "  return x, y\n",
        "\n",
        "datosCircularizar = ['mes_hecho','dia_hecho','hora_hecho','minutos_hecho','segundos_hecho']\n",
        "\n",
        "mesesCirculares = []\n",
        "diasCirculares = []\n",
        "\n",
        "for datoCircularizar in datosCircularizar:\n",
        "  baseDatos.loc[:,f'{datoCircularizar}_seno'] = baseDatos.loc[:,datoCircularizar].map(lambda x: circularizar(float(x))[0])\n",
        "  baseDatos.loc[:,f'{datoCircularizar}_coseno'] = baseDatos.loc[:,datoCircularizar].map(lambda x: circularizar(float(x))[1])\n",
        "  del baseDatos[datoCircularizar]\n",
        "\n",
        "del baseDatos['fecha_hecho']\n",
        "del baseDatos['agencia']\n"
      ]
    },
    {
      "cell_type": "code",
      "execution_count": 5,
      "metadata": {
        "colab": {
          "base_uri": "https://localhost:8080/"
        },
        "id": "VjW6rPgvXe7V",
        "outputId": "de6aa0fc-1f7b-485c-faf1-5507b6892394"
      },
      "outputs": [
        {
          "output_type": "stream",
          "name": "stdout",
          "text": [
            "<class 'pandas.core.frame.DataFrame'>\n",
            "Index: 1048280 entries, 0 to 1048574\n",
            "Data columns (total 22 columns):\n",
            " #   Column                 Non-Null Count    Dtype  \n",
            "---  ------                 --------------    -----  \n",
            " 0   id                     1048280 non-null  object \n",
            " 1   anio_hecho             1048280 non-null  float64\n",
            " 2   delito                 1048280 non-null  object \n",
            " 3   categoria_delito       1048280 non-null  object \n",
            " 4   fiscalia               1048280 non-null  object \n",
            " 5   unidad_investigacion   1048280 non-null  object \n",
            " 6   colonia_hecho          1048280 non-null  object \n",
            " 7   alcaldia_hecho         1048280 non-null  object \n",
            " 8   latitud                1048280 non-null  float64\n",
            " 9   longitud               1048280 non-null  float64\n",
            " 10  fueDiaFestivo          1048280 non-null  int64  \n",
            " 11  finSemana              1048280 non-null  int64  \n",
            " 12  mes_hecho_seno         1048280 non-null  float64\n",
            " 13  mes_hecho_coseno       1048280 non-null  float64\n",
            " 14  dia_hecho_seno         1048280 non-null  float64\n",
            " 15  dia_hecho_coseno       1048280 non-null  float64\n",
            " 16  hora_hecho_seno        1048280 non-null  float64\n",
            " 17  hora_hecho_coseno      1048280 non-null  float64\n",
            " 18  minutos_hecho_seno     1048280 non-null  float64\n",
            " 19  minutos_hecho_coseno   1048280 non-null  float64\n",
            " 20  segundos_hecho_seno    1048280 non-null  float64\n",
            " 21  segundos_hecho_coseno  1048280 non-null  float64\n",
            "dtypes: float64(13), int64(2), object(7)\n",
            "memory usage: 183.9+ MB\n",
            "None\n"
          ]
        }
      ],
      "source": [
        "cambiarDatosNumerico = ['anio_hecho','latitud','longitud']\n",
        "\n",
        "for cambiarDato in cambiarDatosNumerico:\n",
        "  baseDatos[cambiarDato] = pd.to_numeric( baseDatos[cambiarDato])\n",
        "print(baseDatos.info())\n"
      ]
    },
    {
      "cell_type": "code",
      "execution_count": 6,
      "metadata": {
        "id": "SG9Fz5pykfTr"
      },
      "outputs": [],
      "source": [
        "datosBorrar = ['id','delito','fiscalia','unidad_investigacion','colonia_hecho','alcaldia_hecho']\n",
        "\n",
        "for borrar in datosBorrar:\n",
        "  del baseDatos[borrar]\n"
      ]
    },
    {
      "cell_type": "code",
      "execution_count": 7,
      "metadata": {
        "colab": {
          "base_uri": "https://localhost:8080/"
        },
        "id": "OdcQQma71JD3",
        "outputId": "27dd5b62-baf1-4185-f68b-f614d0e3aad6"
      },
      "outputs": [
        {
          "output_type": "stream",
          "name": "stdout",
          "text": [
            "<class 'pandas.core.frame.DataFrame'>\n",
            "Index: 1048280 entries, 0 to 1048574\n",
            "Data columns (total 16 columns):\n",
            " #   Column                 Non-Null Count    Dtype  \n",
            "---  ------                 --------------    -----  \n",
            " 0   anio_hecho             1048280 non-null  float64\n",
            " 1   categoria_delito       1048280 non-null  object \n",
            " 2   latitud                1048280 non-null  float64\n",
            " 3   longitud               1048280 non-null  float64\n",
            " 4   fueDiaFestivo          1048280 non-null  int64  \n",
            " 5   finSemana              1048280 non-null  int64  \n",
            " 6   mes_hecho_seno         1048280 non-null  float64\n",
            " 7   mes_hecho_coseno       1048280 non-null  float64\n",
            " 8   dia_hecho_seno         1048280 non-null  float64\n",
            " 9   dia_hecho_coseno       1048280 non-null  float64\n",
            " 10  hora_hecho_seno        1048280 non-null  float64\n",
            " 11  hora_hecho_coseno      1048280 non-null  float64\n",
            " 12  minutos_hecho_seno     1048280 non-null  float64\n",
            " 13  minutos_hecho_coseno   1048280 non-null  float64\n",
            " 14  segundos_hecho_seno    1048280 non-null  float64\n",
            " 15  segundos_hecho_coseno  1048280 non-null  float64\n",
            "dtypes: float64(13), int64(2), object(1)\n",
            "memory usage: 136.0+ MB\n",
            "None\n"
          ]
        }
      ],
      "source": [
        "print(baseDatos.info())"
      ]
    },
    {
      "cell_type": "code",
      "execution_count": 8,
      "metadata": {
        "id": "NJmydDDO0XbX"
      },
      "outputs": [],
      "source": [
        "categorias_delito = baseDatos.categoria_delito.unique().tolist()\n",
        "jencoding = {}\n",
        "\n",
        "for i in range(len(categorias_delito)):\n",
        "  jencoding.update({categorias_delito[i]:[0 for i in range(len(baseDatos.index))]})\n",
        "\n",
        "for i in range(len(baseDatos.index)):\n",
        "  jencoding[baseDatos.iloc[i].loc[\"categoria_delito\"]][i]=1\n",
        "\n",
        "for delito in jencoding:\n",
        "  baseDatos[delito] = jencoding[delito]"
      ]
    },
    {
      "cell_type": "code",
      "execution_count": 9,
      "metadata": {
        "colab": {
          "base_uri": "https://localhost:8080/"
        },
        "id": "6nmlrCdoL62r",
        "outputId": "6bab79ea-e917-4e05-e032-771dd562ede4"
      },
      "outputs": [
        {
          "output_type": "stream",
          "name": "stdout",
          "text": [
            "anio_hecho                                                                 2015.0\n",
            "categoria_delito                                           delito de bajo impacto\n",
            "latitud                                                                  19.30086\n",
            "longitud                                                                -99.20877\n",
            "fueDiaFestivo                                                                   0\n",
            "finSemana                                                                       0\n",
            "mes_hecho_seno                                                                0.5\n",
            "mes_hecho_coseno                                                              1.0\n",
            "dia_hecho_seno                                                           0.283058\n",
            "dia_hecho_coseno                                                         0.049516\n",
            "hora_hecho_seno                                                           0.02887\n",
            "hora_hecho_coseno                                                         0.33256\n",
            "minutos_hecho_seno                                                       0.473389\n",
            "minutos_hecho_coseno                                                     0.000709\n",
            "segundos_hecho_seno                                                           0.5\n",
            "segundos_hecho_coseno                                                         1.0\n",
            "delito de bajo impacto                                                          1\n",
            "robo a pasajero a bordo de taxi con violencia                                   0\n",
            "robo a transeunte en vía pública con y sin violencia                            0\n",
            "robo de vehículo con y sin violencia                                            0\n",
            "homicidio doloso                                                                0\n",
            "lesiones dolosas por disparo de arma de fuego                                   0\n",
            "hecho no delictivo                                                              0\n",
            "robo a negocio con violencia                                                    0\n",
            "robo a repartidor con y sin violencia                                           0\n",
            "robo a casa habitación con violencia                                            0\n",
            "robo a cuentahabiente saliendo del cajero con violencia                         0\n",
            "robo a pasajero a bordo de microbus con y sin violencia                         0\n",
            "robo a pasajero a bordo del metro con y sin violencia                           0\n",
            "robo a transportista con y sin violencia                                        0\n",
            "plagio o secuestro                                                              0\n",
            "feminicidio                                                                     0\n",
            "Name: 0, dtype: object\n"
          ]
        }
      ],
      "source": [
        "baseDatosEntrenamiento = baseDatos[baseDatos['anio_hecho'] >=0]\n",
        "print(baseDatosEntrenamiento.iloc[0])"
      ]
    },
    {
      "cell_type": "code",
      "execution_count": 48,
      "metadata": {
        "colab": {
          "base_uri": "https://localhost:8080/"
        },
        "id": "pnbmczmCdGxZ",
        "outputId": "6f3ee465-73b8-4a35-d9c8-e5cfcda24c37"
      },
      "outputs": [
        {
          "output_type": "stream",
          "name": "stdout",
          "text": [
            "15\n",
            "16\n"
          ]
        },
        {
          "output_type": "execute_result",
          "data": {
            "text/plain": [
              "Index(['delito de bajo impacto',\n",
              "       'robo a pasajero a bordo de taxi con violencia',\n",
              "       'robo a transeunte en vía pública con y sin violencia',\n",
              "       'robo de vehículo con y sin violencia', 'homicidio doloso',\n",
              "       'lesiones dolosas por disparo de arma de fuego', 'hecho no delictivo',\n",
              "       'robo a negocio con violencia', 'robo a repartidor con y sin violencia',\n",
              "       'robo a casa habitación con violencia',\n",
              "       'robo a cuentahabiente saliendo del cajero con violencia',\n",
              "       'robo a pasajero a bordo de microbus con y sin violencia',\n",
              "       'robo a pasajero a bordo del metro con y sin violencia',\n",
              "       'robo a transportista con y sin violencia', 'plagio o secuestro',\n",
              "       'feminicidio'],\n",
              "      dtype='object')"
            ]
          },
          "metadata": {},
          "execution_count": 48
        }
      ],
      "source": [
        "\n",
        "X = baseDatosEntrenamiento.loc[:, baseDatosEntrenamiento.columns != 'categoria_delito']\n",
        "X = X.loc[:, :'segundos_hecho_coseno']\n",
        "y = baseDatosEntrenamiento.loc[:,'delito de bajo impacto':]\n",
        "\n",
        "print(len(X.columns))\n",
        "print(len(y.columns))\n",
        "y.columns\n"
      ]
    },
    {
      "cell_type": "code",
      "execution_count": 11,
      "metadata": {
        "colab": {
          "base_uri": "https://localhost:8080/"
        },
        "id": "Ht1fbwafllaZ",
        "outputId": "d708b9f9-2621-4ee5-e589-3203e3b8161f"
      },
      "outputs": [
        {
          "output_type": "stream",
          "name": "stdout",
          "text": [
            "anio_hecho               2015.000000\n",
            "latitud                    19.300860\n",
            "longitud                  -99.208770\n",
            "fueDiaFestivo               0.000000\n",
            "finSemana                   0.000000\n",
            "mes_hecho_seno              0.500000\n",
            "mes_hecho_coseno            1.000000\n",
            "dia_hecho_seno              0.283058\n",
            "dia_hecho_coseno            0.049516\n",
            "hora_hecho_seno             0.028870\n",
            "hora_hecho_coseno           0.332560\n",
            "minutos_hecho_seno          0.473389\n",
            "minutos_hecho_coseno        0.000709\n",
            "segundos_hecho_seno         0.500000\n",
            "segundos_hecho_coseno       1.000000\n",
            "Name: 0, dtype: float64\n"
          ]
        }
      ],
      "source": [
        "print(X.iloc[0])"
      ]
    },
    {
      "cell_type": "code",
      "source": [
        "X_train, X_test, y_train, y_test = train_test_split(\n",
        "    X, y, test_size=0.33, random_state=42)"
      ],
      "metadata": {
        "id": "Q4K31bSZ6VLZ"
      },
      "execution_count": 49,
      "outputs": []
    },
    {
      "cell_type": "code",
      "execution_count": 13,
      "metadata": {
        "colab": {
          "base_uri": "https://localhost:8080/"
        },
        "collapsed": true,
        "id": "dZ275yKAmsHR",
        "outputId": "eefcc5b3-f59d-4b87-b272-296813b622bf"
      },
      "outputs": [
        {
          "output_type": "stream",
          "name": "stdout",
          "text": [
            "Epoch 1/100\n",
            "343/343 [==============================] - 3s 6ms/step - loss: 2.2758 - accuracy: 0.7380 - val_loss: 1.0234 - val_accuracy: 0.7584\n",
            "Epoch 2/100\n",
            "343/343 [==============================] - 2s 5ms/step - loss: 1.0206 - accuracy: 0.7570 - val_loss: 1.0107 - val_accuracy: 0.7584\n",
            "Epoch 3/100\n",
            "343/343 [==============================] - 2s 5ms/step - loss: 1.0251 - accuracy: 0.7570 - val_loss: 1.0142 - val_accuracy: 0.7584\n",
            "Epoch 4/100\n",
            "343/343 [==============================] - 2s 5ms/step - loss: 1.0209 - accuracy: 0.7570 - val_loss: 1.0188 - val_accuracy: 0.7584\n",
            "Epoch 5/100\n",
            "343/343 [==============================] - 2s 5ms/step - loss: 1.0227 - accuracy: 0.7570 - val_loss: 1.0129 - val_accuracy: 0.7584\n",
            "Epoch 6/100\n",
            "343/343 [==============================] - 2s 5ms/step - loss: 1.0735 - accuracy: 0.7523 - val_loss: 1.0102 - val_accuracy: 0.7584\n",
            "Epoch 7/100\n",
            "343/343 [==============================] - 2s 5ms/step - loss: 1.0158 - accuracy: 0.7570 - val_loss: 1.0145 - val_accuracy: 0.7584\n",
            "Epoch 8/100\n",
            "343/343 [==============================] - 2s 5ms/step - loss: 1.0164 - accuracy: 0.7570 - val_loss: 1.0080 - val_accuracy: 0.7584\n",
            "Epoch 9/100\n",
            "343/343 [==============================] - 2s 5ms/step - loss: 1.0168 - accuracy: 0.7570 - val_loss: 1.0645 - val_accuracy: 0.7584\n",
            "Epoch 10/100\n",
            "343/343 [==============================] - 2s 5ms/step - loss: 1.0157 - accuracy: 0.7570 - val_loss: 1.0089 - val_accuracy: 0.7584\n",
            "Epoch 11/100\n",
            "343/343 [==============================] - 2s 5ms/step - loss: 1.0148 - accuracy: 0.7570 - val_loss: 1.0115 - val_accuracy: 0.7584\n",
            "Epoch 12/100\n",
            "343/343 [==============================] - 2s 5ms/step - loss: 1.0128 - accuracy: 0.7570 - val_loss: 1.0199 - val_accuracy: 0.7584\n",
            "Epoch 13/100\n",
            "343/343 [==============================] - 2s 5ms/step - loss: 1.0137 - accuracy: 0.7570 - val_loss: 1.0027 - val_accuracy: 0.7584\n",
            "Epoch 14/100\n",
            "343/343 [==============================] - 2s 5ms/step - loss: 1.0120 - accuracy: 0.7570 - val_loss: 1.0003 - val_accuracy: 0.7584\n",
            "Epoch 15/100\n",
            "343/343 [==============================] - 2s 5ms/step - loss: 1.0073 - accuracy: 0.7570 - val_loss: 0.9995 - val_accuracy: 0.7584\n",
            "Epoch 16/100\n",
            "343/343 [==============================] - 2s 5ms/step - loss: 1.0072 - accuracy: 0.7570 - val_loss: 0.9972 - val_accuracy: 0.7584\n",
            "Epoch 17/100\n",
            "343/343 [==============================] - 2s 5ms/step - loss: 1.0053 - accuracy: 0.7570 - val_loss: 0.9969 - val_accuracy: 0.7584\n",
            "Epoch 18/100\n",
            "343/343 [==============================] - 2s 5ms/step - loss: 1.0064 - accuracy: 0.7570 - val_loss: 0.9986 - val_accuracy: 0.7584\n",
            "Epoch 19/100\n",
            "343/343 [==============================] - 2s 5ms/step - loss: 1.0045 - accuracy: 0.7570 - val_loss: 0.9975 - val_accuracy: 0.7584\n",
            "Epoch 20/100\n",
            "343/343 [==============================] - 2s 5ms/step - loss: 1.0035 - accuracy: 0.7570 - val_loss: 0.9983 - val_accuracy: 0.7584\n",
            "Epoch 21/100\n",
            "343/343 [==============================] - 2s 5ms/step - loss: 1.0026 - accuracy: 0.7570 - val_loss: 1.0027 - val_accuracy: 0.7584\n",
            "Epoch 22/100\n",
            "343/343 [==============================] - 2s 5ms/step - loss: 1.0033 - accuracy: 0.7570 - val_loss: 1.0030 - val_accuracy: 0.7584\n",
            "Epoch 23/100\n",
            "343/343 [==============================] - 2s 5ms/step - loss: 1.0033 - accuracy: 0.7570 - val_loss: 0.9944 - val_accuracy: 0.7584\n",
            "Epoch 24/100\n",
            "343/343 [==============================] - 2s 5ms/step - loss: 1.0006 - accuracy: 0.7570 - val_loss: 1.0128 - val_accuracy: 0.7584\n",
            "Epoch 25/100\n",
            "343/343 [==============================] - 2s 5ms/step - loss: 1.0012 - accuracy: 0.7570 - val_loss: 1.0018 - val_accuracy: 0.7584\n",
            "Epoch 26/100\n",
            "343/343 [==============================] - 2s 5ms/step - loss: 1.0016 - accuracy: 0.7570 - val_loss: 0.9987 - val_accuracy: 0.7584\n",
            "Epoch 27/100\n",
            "343/343 [==============================] - 2s 5ms/step - loss: 1.0007 - accuracy: 0.7570 - val_loss: 0.9989 - val_accuracy: 0.7584\n",
            "Epoch 28/100\n",
            "343/343 [==============================] - 2s 5ms/step - loss: 1.0003 - accuracy: 0.7570 - val_loss: 0.9950 - val_accuracy: 0.7584\n",
            "Epoch 29/100\n",
            "343/343 [==============================] - 2s 5ms/step - loss: 0.9998 - accuracy: 0.7570 - val_loss: 0.9950 - val_accuracy: 0.7584\n",
            "Epoch 30/100\n",
            "343/343 [==============================] - 2s 5ms/step - loss: 0.9996 - accuracy: 0.7570 - val_loss: 0.9967 - val_accuracy: 0.7584\n",
            "Epoch 31/100\n",
            "343/343 [==============================] - 2s 5ms/step - loss: 0.9993 - accuracy: 0.7570 - val_loss: 0.9945 - val_accuracy: 0.7584\n",
            "Epoch 32/100\n",
            "343/343 [==============================] - 2s 5ms/step - loss: 0.9994 - accuracy: 0.7570 - val_loss: 0.9951 - val_accuracy: 0.7584\n",
            "Epoch 33/100\n",
            "343/343 [==============================] - 2s 5ms/step - loss: 0.9993 - accuracy: 0.7570 - val_loss: 1.0100 - val_accuracy: 0.7584\n",
            "Epoch 34/100\n",
            "343/343 [==============================] - 2s 5ms/step - loss: 0.9988 - accuracy: 0.7570 - val_loss: 0.9933 - val_accuracy: 0.7584\n",
            "Epoch 35/100\n",
            "343/343 [==============================] - 2s 5ms/step - loss: 0.9986 - accuracy: 0.7570 - val_loss: 1.0004 - val_accuracy: 0.7584\n",
            "Epoch 36/100\n",
            "343/343 [==============================] - 2s 5ms/step - loss: 0.9986 - accuracy: 0.7570 - val_loss: 0.9940 - val_accuracy: 0.7584\n",
            "Epoch 37/100\n",
            "343/343 [==============================] - 2s 5ms/step - loss: 0.9988 - accuracy: 0.7570 - val_loss: 0.9935 - val_accuracy: 0.7584\n",
            "Epoch 38/100\n",
            "343/343 [==============================] - 2s 5ms/step - loss: 0.9980 - accuracy: 0.7570 - val_loss: 0.9965 - val_accuracy: 0.7584\n",
            "Epoch 39/100\n",
            "343/343 [==============================] - 2s 5ms/step - loss: 0.9985 - accuracy: 0.7570 - val_loss: 0.9921 - val_accuracy: 0.7584\n",
            "Epoch 40/100\n",
            "343/343 [==============================] - 2s 5ms/step - loss: 0.9970 - accuracy: 0.7570 - val_loss: 0.9966 - val_accuracy: 0.7584\n",
            "Epoch 41/100\n",
            "343/343 [==============================] - 2s 5ms/step - loss: 0.9975 - accuracy: 0.7570 - val_loss: 0.9922 - val_accuracy: 0.7584\n",
            "Epoch 42/100\n",
            "343/343 [==============================] - 2s 5ms/step - loss: 0.9970 - accuracy: 0.7570 - val_loss: 1.0001 - val_accuracy: 0.7584\n",
            "Epoch 43/100\n",
            "343/343 [==============================] - 2s 5ms/step - loss: 0.9971 - accuracy: 0.7570 - val_loss: 0.9923 - val_accuracy: 0.7584\n",
            "Epoch 44/100\n",
            "343/343 [==============================] - 2s 5ms/step - loss: 0.9958 - accuracy: 0.7570 - val_loss: 0.9965 - val_accuracy: 0.7584\n",
            "Epoch 45/100\n",
            "343/343 [==============================] - 2s 5ms/step - loss: 0.9956 - accuracy: 0.7570 - val_loss: 0.9919 - val_accuracy: 0.7584\n",
            "Epoch 46/100\n",
            "343/343 [==============================] - 2s 5ms/step - loss: 0.9951 - accuracy: 0.7570 - val_loss: 0.9958 - val_accuracy: 0.7584\n",
            "Epoch 47/100\n",
            "343/343 [==============================] - 2s 5ms/step - loss: 0.9940 - accuracy: 0.7570 - val_loss: 0.9883 - val_accuracy: 0.7584\n",
            "Epoch 48/100\n",
            "343/343 [==============================] - 2s 5ms/step - loss: 0.9928 - accuracy: 0.7570 - val_loss: 0.9873 - val_accuracy: 0.7584\n",
            "Epoch 49/100\n",
            "343/343 [==============================] - 2s 5ms/step - loss: 0.9917 - accuracy: 0.7570 - val_loss: 0.9876 - val_accuracy: 0.7584\n",
            "Epoch 50/100\n",
            "343/343 [==============================] - 2s 5ms/step - loss: 0.9915 - accuracy: 0.7570 - val_loss: 0.9867 - val_accuracy: 0.7584\n",
            "Epoch 51/100\n",
            "343/343 [==============================] - 2s 5ms/step - loss: 0.9908 - accuracy: 0.7570 - val_loss: 0.9880 - val_accuracy: 0.7584\n",
            "Epoch 52/100\n",
            "343/343 [==============================] - 2s 5ms/step - loss: 0.9911 - accuracy: 0.7570 - val_loss: 0.9882 - val_accuracy: 0.7584\n",
            "Epoch 53/100\n",
            "343/343 [==============================] - 2s 5ms/step - loss: 0.9905 - accuracy: 0.7570 - val_loss: 0.9849 - val_accuracy: 0.7584\n",
            "Epoch 54/100\n",
            "343/343 [==============================] - 2s 5ms/step - loss: 0.9901 - accuracy: 0.7570 - val_loss: 0.9855 - val_accuracy: 0.7584\n",
            "Epoch 55/100\n",
            "343/343 [==============================] - 2s 5ms/step - loss: 0.9898 - accuracy: 0.7570 - val_loss: 0.9879 - val_accuracy: 0.7584\n",
            "Epoch 56/100\n",
            "343/343 [==============================] - 2s 5ms/step - loss: 0.9899 - accuracy: 0.7570 - val_loss: 0.9873 - val_accuracy: 0.7584\n",
            "Epoch 57/100\n",
            "343/343 [==============================] - 2s 5ms/step - loss: 0.9898 - accuracy: 0.7570 - val_loss: 0.9847 - val_accuracy: 0.7584\n",
            "Epoch 58/100\n",
            "343/343 [==============================] - 2s 5ms/step - loss: 0.9892 - accuracy: 0.7570 - val_loss: 0.9915 - val_accuracy: 0.7584\n",
            "Epoch 59/100\n",
            "343/343 [==============================] - 2s 5ms/step - loss: 0.9892 - accuracy: 0.7570 - val_loss: 0.9873 - val_accuracy: 0.7584\n",
            "Epoch 60/100\n",
            "343/343 [==============================] - 2s 5ms/step - loss: 0.9886 - accuracy: 0.7570 - val_loss: 0.9884 - val_accuracy: 0.7584\n",
            "Epoch 61/100\n",
            "343/343 [==============================] - 2s 5ms/step - loss: 0.9887 - accuracy: 0.7570 - val_loss: 0.9882 - val_accuracy: 0.7584\n",
            "Epoch 62/100\n",
            "343/343 [==============================] - 2s 5ms/step - loss: 0.9886 - accuracy: 0.7570 - val_loss: 0.9850 - val_accuracy: 0.7584\n",
            "Epoch 63/100\n",
            "343/343 [==============================] - 2s 5ms/step - loss: 0.9886 - accuracy: 0.7570 - val_loss: 0.9920 - val_accuracy: 0.7584\n",
            "Epoch 64/100\n",
            "343/343 [==============================] - 2s 5ms/step - loss: 0.9876 - accuracy: 0.7570 - val_loss: 0.9844 - val_accuracy: 0.7584\n",
            "Epoch 65/100\n",
            "343/343 [==============================] - 2s 5ms/step - loss: 0.9876 - accuracy: 0.7570 - val_loss: 0.9827 - val_accuracy: 0.7584\n",
            "Epoch 66/100\n",
            "343/343 [==============================] - 2s 4ms/step - loss: 0.9872 - accuracy: 0.7570 - val_loss: 0.9832 - val_accuracy: 0.7584\n",
            "Epoch 67/100\n",
            "343/343 [==============================] - 2s 5ms/step - loss: 0.9864 - accuracy: 0.7570 - val_loss: 0.9837 - val_accuracy: 0.7584\n",
            "Epoch 68/100\n",
            "343/343 [==============================] - 2s 5ms/step - loss: 0.9870 - accuracy: 0.7570 - val_loss: 0.9836 - val_accuracy: 0.7584\n",
            "Epoch 69/100\n",
            "343/343 [==============================] - 2s 5ms/step - loss: 0.9862 - accuracy: 0.7570 - val_loss: 0.9820 - val_accuracy: 0.7584\n",
            "Epoch 70/100\n",
            "343/343 [==============================] - 2s 5ms/step - loss: 0.9864 - accuracy: 0.7570 - val_loss: 0.9834 - val_accuracy: 0.7584\n",
            "Epoch 71/100\n",
            "343/343 [==============================] - 2s 5ms/step - loss: 0.9861 - accuracy: 0.7570 - val_loss: 0.9913 - val_accuracy: 0.7584\n",
            "Epoch 72/100\n",
            "343/343 [==============================] - 2s 5ms/step - loss: 0.9860 - accuracy: 0.7570 - val_loss: 0.9837 - val_accuracy: 0.7584\n",
            "Epoch 73/100\n",
            "343/343 [==============================] - 2s 5ms/step - loss: 0.9858 - accuracy: 0.7570 - val_loss: 0.9830 - val_accuracy: 0.7584\n",
            "Epoch 74/100\n",
            "343/343 [==============================] - 2s 5ms/step - loss: 0.9854 - accuracy: 0.7570 - val_loss: 0.9818 - val_accuracy: 0.7584\n",
            "Epoch 75/100\n",
            "343/343 [==============================] - 2s 5ms/step - loss: 0.9861 - accuracy: 0.7570 - val_loss: 0.9856 - val_accuracy: 0.7584\n",
            "Epoch 76/100\n",
            "343/343 [==============================] - 2s 5ms/step - loss: 0.9853 - accuracy: 0.7570 - val_loss: 0.9829 - val_accuracy: 0.7584\n",
            "Epoch 77/100\n",
            "343/343 [==============================] - 2s 5ms/step - loss: 0.9850 - accuracy: 0.7570 - val_loss: 0.9892 - val_accuracy: 0.7584\n",
            "Epoch 78/100\n",
            "343/343 [==============================] - 2s 5ms/step - loss: 0.9853 - accuracy: 0.7570 - val_loss: 0.9806 - val_accuracy: 0.7584\n",
            "Epoch 79/100\n",
            "343/343 [==============================] - 2s 5ms/step - loss: 0.9861 - accuracy: 0.7570 - val_loss: 0.9809 - val_accuracy: 0.7584\n",
            "Epoch 80/100\n",
            "343/343 [==============================] - 2s 5ms/step - loss: 0.9850 - accuracy: 0.7570 - val_loss: 0.9802 - val_accuracy: 0.7584\n",
            "Epoch 81/100\n",
            "343/343 [==============================] - 2s 5ms/step - loss: 0.9856 - accuracy: 0.7570 - val_loss: 0.9820 - val_accuracy: 0.7584\n",
            "Epoch 82/100\n",
            "343/343 [==============================] - 2s 5ms/step - loss: 0.9849 - accuracy: 0.7570 - val_loss: 0.9848 - val_accuracy: 0.7584\n",
            "Epoch 83/100\n",
            "343/343 [==============================] - 2s 5ms/step - loss: 0.9853 - accuracy: 0.7570 - val_loss: 0.9799 - val_accuracy: 0.7584\n",
            "Epoch 84/100\n",
            "343/343 [==============================] - 2s 5ms/step - loss: 0.9846 - accuracy: 0.7570 - val_loss: 0.9803 - val_accuracy: 0.7584\n",
            "Epoch 85/100\n",
            "343/343 [==============================] - 2s 5ms/step - loss: 0.9849 - accuracy: 0.7570 - val_loss: 0.9799 - val_accuracy: 0.7584\n",
            "Epoch 86/100\n",
            "343/343 [==============================] - 2s 5ms/step - loss: 0.9850 - accuracy: 0.7570 - val_loss: 0.9844 - val_accuracy: 0.7584\n",
            "Epoch 87/100\n",
            "343/343 [==============================] - 2s 5ms/step - loss: 0.9845 - accuracy: 0.7570 - val_loss: 0.9797 - val_accuracy: 0.7584\n",
            "Epoch 88/100\n",
            "343/343 [==============================] - 2s 5ms/step - loss: 0.9859 - accuracy: 0.7570 - val_loss: 0.9836 - val_accuracy: 0.7584\n",
            "Epoch 89/100\n",
            "343/343 [==============================] - 2s 5ms/step - loss: 0.9851 - accuracy: 0.7570 - val_loss: 0.9800 - val_accuracy: 0.7584\n",
            "Epoch 90/100\n",
            "343/343 [==============================] - 2s 5ms/step - loss: 0.9843 - accuracy: 0.7570 - val_loss: 0.9800 - val_accuracy: 0.7584\n",
            "Epoch 91/100\n",
            "343/343 [==============================] - 2s 4ms/step - loss: 0.9843 - accuracy: 0.7570 - val_loss: 0.9799 - val_accuracy: 0.7584\n",
            "Epoch 92/100\n",
            "343/343 [==============================] - 2s 5ms/step - loss: 0.9839 - accuracy: 0.7570 - val_loss: 0.9797 - val_accuracy: 0.7584\n",
            "Epoch 93/100\n",
            "343/343 [==============================] - 2s 5ms/step - loss: 0.9841 - accuracy: 0.7570 - val_loss: 0.9834 - val_accuracy: 0.7584\n",
            "Epoch 94/100\n",
            "343/343 [==============================] - 2s 5ms/step - loss: 0.9845 - accuracy: 0.7570 - val_loss: 0.9819 - val_accuracy: 0.7584\n",
            "Epoch 95/100\n",
            "343/343 [==============================] - 2s 5ms/step - loss: 0.9844 - accuracy: 0.7570 - val_loss: 0.9796 - val_accuracy: 0.7584\n",
            "Epoch 96/100\n",
            "343/343 [==============================] - 2s 5ms/step - loss: 0.9839 - accuracy: 0.7570 - val_loss: 0.9803 - val_accuracy: 0.7584\n",
            "Epoch 97/100\n",
            "343/343 [==============================] - 2s 5ms/step - loss: 0.9843 - accuracy: 0.7570 - val_loss: 0.9799 - val_accuracy: 0.7584\n",
            "Epoch 98/100\n",
            "343/343 [==============================] - 2s 5ms/step - loss: 0.9843 - accuracy: 0.7570 - val_loss: 0.9830 - val_accuracy: 0.7584\n",
            "Epoch 99/100\n",
            "343/343 [==============================] - 2s 5ms/step - loss: 0.9838 - accuracy: 0.7570 - val_loss: 0.9847 - val_accuracy: 0.7584\n",
            "Epoch 100/100\n",
            "343/343 [==============================] - 2s 5ms/step - loss: 0.9847 - accuracy: 0.7570 - val_loss: 0.9820 - val_accuracy: 0.7584\n"
          ]
        },
        {
          "output_type": "execute_result",
          "data": {
            "text/plain": [
              "<keras.src.callbacks.History at 0x7b95706d29e0>"
            ]
          },
          "metadata": {},
          "execution_count": 13
        }
      ],
      "source": [
        "X_train, X_test, y_train, y_test = train_test_split(\n",
        "    X, y, test_size=0.33, random_state=42)\n",
        "\n",
        "model = Sequential()\n",
        "\n",
        "model.add(Dense(15, activation='relu'))\n",
        "\n",
        "model.add(Dense(30, activation='relu'))\n",
        "\n",
        "model.add(Dense(64, activation='relu'))\n",
        "\n",
        "model.add(Dense(32, activation='relu'))\n",
        "\n",
        "model.add(Dense(18, activation='relu'))\n",
        "\n",
        "model.add(Dense(16, activation='softmax'))  # Asegúrate de que el número de neuronas coincida con las categorías\n",
        "\n",
        "model.compile(optimizer='Adam',loss='categorical_crossentropy', metrics=['accuracy'])\n",
        "\n",
        "model.fit(X_train, y_train, epochs=100, batch_size=2048, verbose=1, validation_data=(X_test, y_test))"
      ]
    },
    {
      "cell_type": "code",
      "source": [
        "#Exportar el modelo al explorador\n",
        "model.save('numeros_conv.h5')"
      ],
      "metadata": {
        "colab": {
          "base_uri": "https://localhost:8080/"
        },
        "id": "UhtNfrLexaFn",
        "outputId": "b2711f93-b277-4410-bf06-94b19fe8bfb5"
      },
      "execution_count": 27,
      "outputs": [
        {
          "output_type": "stream",
          "name": "stderr",
          "text": [
            "/usr/local/lib/python3.10/dist-packages/keras/src/engine/training.py:3103: UserWarning: You are saving your model as an HDF5 file via `model.save()`. This file format is considered legacy. We recommend using instead the native Keras format, e.g. `model.save('my_model.keras')`.\n",
            "  saving_api.save_model(\n"
          ]
        }
      ]
    },
    {
      "cell_type": "markdown",
      "source": [
        "Ejemplo de predicción"
      ],
      "metadata": {
        "id": "G1dk3lvO2d0P"
      }
    },
    {
      "cell_type": "code",
      "execution_count": 79,
      "metadata": {
        "colab": {
          "base_uri": "https://localhost:8080/",
          "height": 1000
        },
        "id": "8Ag7cBAlh7oa",
        "outputId": "668a6e3d-4ecc-4a9c-a301-4a189930c2fc"
      },
      "outputs": [
        {
          "output_type": "stream",
          "name": "stdout",
          "text": [
            "        delito de bajo impacto  robo a pasajero a bordo de taxi con violencia  \\\n",
            "822004                       1                                              0   \n",
            "\n",
            "        robo a transeunte en vía pública con y sin violencia  \\\n",
            "822004                                                  0      \n",
            "\n",
            "        robo de vehículo con y sin violencia  homicidio doloso  \\\n",
            "822004                                     0                 0   \n",
            "\n",
            "        lesiones dolosas por disparo de arma de fuego  hecho no delictivo  \\\n",
            "822004                                              0                   0   \n",
            "\n",
            "        robo a negocio con violencia  robo a repartidor con y sin violencia  \\\n",
            "822004                             0                                      0   \n",
            "\n",
            "        robo a casa habitación con violencia  \\\n",
            "822004                                     0   \n",
            "\n",
            "        robo a cuentahabiente saliendo del cajero con violencia  \\\n",
            "822004                                                  0         \n",
            "\n",
            "        robo a pasajero a bordo de microbus con y sin violencia  \\\n",
            "822004                                                  0         \n",
            "\n",
            "        robo a pasajero a bordo del metro con y sin violencia  \\\n",
            "822004                                                  0       \n",
            "\n",
            "        robo a transportista con y sin violencia  plagio o secuestro  \\\n",
            "822004                                         0                   0   \n",
            "\n",
            "        feminicidio  \n",
            "822004            0  \n"
          ]
        },
        {
          "output_type": "display_data",
          "data": {
            "text/plain": [
              "<Figure size 640x480 with 1 Axes>"
            ],
            "image/png": "[encoded data removed]"
          },
          "metadata": {}
        }
      ],
      "source": [
        "# Función para transformar datos de tiempo\n",
        "def circularizar(a):\n",
        "  x = (np.sin(2 * np.pi * a) + 1) / 2\n",
        "  y = (np.cos(2 * np.pi * a) + 1) / 2\n",
        "  return x, y\n",
        "\n",
        "#Definición de parametro de ejemplo\n",
        "\n",
        "\n",
        "#Predicción utilizando los parámetros definidos anteriormente\n",
        "\n",
        "\n",
        "y_predicciones = model.predict(X_test.tail(20), verbose=False)\n",
        "\n",
        "\n",
        "plt.plot(range(20),y_test.tail(20),'bo')\n",
        "plt.plot(range(20),y_predicciones,'ro')\n",
        "\n",
        "y_test.tail(20).columns\n",
        "\n",
        "print(y_test.head(1))\n",
        "plt.show()\n",
        "\n",
        "#Impresión de predicción por categoría de delito realizada\n"
      ]
    },
    {
      "cell_type": "code",
      "source": [
        "alcaldias = {}\n",
        "\n",
        "print(baseDatos.columns)\n",
        "\n",
        "for i in range(len(baseDatos.index)):\n",
        "    if(baseDatos.iloc[i].loc[\"alcaldia_hecho\"] not in alcaldias):\n",
        "      alcaldias.update({baseDatos.iloc[i].loc[\"alcaldia_hecho\"] : [baseDatos.iloc[i].loc[\"latitud\"], baseDatos.iloc[i].loc[\"longitud\"]]})\n",
        "\n",
        "print(alcaldias)\n"
      ],
      "metadata": {
        "colab": {
          "base_uri": "https://localhost:8080/"
        },
        "id": "wD-Kmc5FxkQ8",
        "outputId": "03fcb159-6c51-43d7-ea73-0dc7967f2a74"
      },
      "execution_count": 34,
      "outputs": [
        {
          "output_type": "stream",
          "name": "stdout",
          "text": [
            "Index(['id', 'anio_hecho', 'mes_hecho', 'fecha_hecho', 'hora_hecho', 'delito',\n",
            "       'categoria_delito', 'fiscalia', 'agencia', 'unidad_investigacion',\n",
            "       'colonia_hecho', 'alcaldia_hecho', 'latitud', 'longitud'],\n",
            "      dtype='object')\n",
            "{'TLALPAN': [19.30086, -99.20877], 'IZTAPALAPA': [19.3408, -99.11431], 'GUSTAVO A. MADERO': [19.45106, -99.08669], 'BENITO JUAREZ': [19.38095, -99.13982], 'COYOACAN': [19.32651, -99.11497], 'MIGUEL HIDALGO': [19.45716, -99.17253], 'AZCAPOTZALCO': [19.47936, -99.17994], 'IZTACALCO': [19.3937, -99.08147], 'ALVARO OBREGON': [19.39787, -99.20915], 'CUAUHTEMOC': [19.45631, -99.15491], 'VENUSTIANO CARRANZA': [19.42718, -99.12176], 'XOCHIMILCO': [19.24623, -99.1144], 'LA MAGDALENA CONTRERAS': [19.3009, -99.25837], 'TLAHUAC': [19.22317, -98.96175], 'MILPA ALTA': [19.19197, -99.02291], 'CUAJIMALPA DE MORELOS': [19.33485, -99.31215], 'FUERA DE CDMX': [19.3121, -98.96331], nan: [19.46025, -99.21577]}\n"
          ]
        }
      ]
    },
    {
      "cell_type": "code",
      "source": [],
      "metadata": {
        "colab": {
          "base_uri": "https://localhost:8080/",
          "height": 562
        },
        "collapsed": true,
        "id": "dotekuC83aTJ",
        "outputId": "f44b7638-d7e8-4490-a153-2c86c5e19c6d"
      },
      "execution_count": 44,
      "outputs": [
        {
          "output_type": "error",
          "ename": "KeyError",
          "evalue": "'anio_hecho'",
          "traceback": [
            "\u001b[0;31m---------------------------------------------------------------------------\u001b[0m",
            "\u001b[0;31mKeyError\u001b[0m                                  Traceback (most recent call last)",
            "\u001b[0;32m/usr/local/lib/python3.10/dist-packages/pandas/core/indexes/base.py\u001b[0m in \u001b[0;36mget_loc\u001b[0;34m(self, key)\u001b[0m\n\u001b[1;32m   3804\u001b[0m         \u001b[0;32mtry\u001b[0m\u001b[0;34m:\u001b[0m\u001b[0;34m\u001b[0m\u001b[0;34m\u001b[0m\u001b[0m\n\u001b[0;32m-> 3805\u001b[0;31m             \u001b[0;32mreturn\u001b[0m \u001b[0mself\u001b[0m\u001b[0;34m.\u001b[0m\u001b[0m_engine\u001b[0m\u001b[0;34m.\u001b[0m\u001b[0mget_loc\u001b[0m\u001b[0;34m(\u001b[0m\u001b[0mcasted_key\u001b[0m\u001b[0;34m)\u001b[0m\u001b[0;34m\u001b[0m\u001b[0;34m\u001b[0m\u001b[0m\n\u001b[0m\u001b[1;32m   3806\u001b[0m         \u001b[0;32mexcept\u001b[0m \u001b[0mKeyError\u001b[0m \u001b[0;32mas\u001b[0m \u001b[0merr\u001b[0m\u001b[0;34m:\u001b[0m\u001b[0;34m\u001b[0m\u001b[0;34m\u001b[0m\u001b[0m\n",
            "\u001b[0;32mindex.pyx\u001b[0m in \u001b[0;36mpandas._libs.index.IndexEngine.get_loc\u001b[0;34m()\u001b[0m\n",
            "\u001b[0;32mindex.pyx\u001b[0m in \u001b[0;36mpandas._libs.index.IndexEngine.get_loc\u001b[0;34m()\u001b[0m\n",
            "\u001b[0;32mpandas/_libs/hashtable_class_helper.pxi\u001b[0m in \u001b[0;36mpandas._libs.hashtable.PyObjectHashTable.get_item\u001b[0;34m()\u001b[0m\n",
            "\u001b[0;32mpandas/_libs/hashtable_class_helper.pxi\u001b[0m in \u001b[0;36mpandas._libs.hashtable.PyObjectHashTable.get_item\u001b[0;34m()\u001b[0m\n",
            "\u001b[0;31mKeyError\u001b[0m: 'anio_hecho'",
            "\nThe above exception was the direct cause of the following exception:\n",
            "\u001b[0;31mKeyError\u001b[0m                                  Traceback (most recent call last)",
            "\u001b[0;32m<ipython-input-44-fe2ad7840ed6>\u001b[0m in \u001b[0;36m<cell line: 1>\u001b[0;34m()\u001b[0m\n\u001b[0;32m----> 1\u001b[0;31m \u001b[0mbaseDatosEntrenamientoPrueba\u001b[0m \u001b[0;34m=\u001b[0m \u001b[0my_test\u001b[0m\u001b[0;34m[\u001b[0m\u001b[0my_test\u001b[0m\u001b[0;34m[\u001b[0m\u001b[0;34m'anio_hecho'\u001b[0m\u001b[0;34m]\u001b[0m \u001b[0;34m==\u001b[0m \u001b[0;34m'2023'\u001b[0m\u001b[0;34m]\u001b[0m\u001b[0;34m\u001b[0m\u001b[0;34m\u001b[0m\u001b[0m\n\u001b[0m\u001b[1;32m      2\u001b[0m \u001b[0;34m\u001b[0m\u001b[0m\n\u001b[1;32m      3\u001b[0m \u001b[0mbaseDatosEntrenamientoPrueba\u001b[0m\u001b[0;34m.\u001b[0m\u001b[0minfo\u001b[0m\u001b[0;34m(\u001b[0m\u001b[0;34m)\u001b[0m\u001b[0;34m\u001b[0m\u001b[0;34m\u001b[0m\u001b[0m\n\u001b[1;32m      4\u001b[0m \u001b[0;34m\u001b[0m\u001b[0m\n",
            "\u001b[0;32m/usr/local/lib/python3.10/dist-packages/pandas/core/frame.py\u001b[0m in \u001b[0;36m__getitem__\u001b[0;34m(self, key)\u001b[0m\n\u001b[1;32m   4100\u001b[0m             \u001b[0;32mif\u001b[0m \u001b[0mself\u001b[0m\u001b[0;34m.\u001b[0m\u001b[0mcolumns\u001b[0m\u001b[0;34m.\u001b[0m\u001b[0mnlevels\u001b[0m \u001b[0;34m>\u001b[0m \u001b[0;36m1\u001b[0m\u001b[0;34m:\u001b[0m\u001b[0;34m\u001b[0m\u001b[0;34m\u001b[0m\u001b[0m\n\u001b[1;32m   4101\u001b[0m                 \u001b[0;32mreturn\u001b[0m \u001b[0mself\u001b[0m\u001b[0;34m.\u001b[0m\u001b[0m_getitem_multilevel\u001b[0m\u001b[0;34m(\u001b[0m\u001b[0mkey\u001b[0m\u001b[0;34m)\u001b[0m\u001b[0;34m\u001b[0m\u001b[0;34m\u001b[0m\u001b[0m\n\u001b[0;32m-> 4102\u001b[0;31m             \u001b[0mindexer\u001b[0m \u001b[0;34m=\u001b[0m \u001b[0mself\u001b[0m\u001b[0;34m.\u001b[0m\u001b[0mcolumns\u001b[0m\u001b[0;34m.\u001b[0m\u001b[0mget_loc\u001b[0m\u001b[0;34m(\u001b[0m\u001b[0mkey\u001b[0m\u001b[0;34m)\u001b[0m\u001b[0;34m\u001b[0m\u001b[0;34m\u001b[0m\u001b[0m\n\u001b[0m\u001b[1;32m   4103\u001b[0m             \u001b[0;32mif\u001b[0m \u001b[0mis_integer\u001b[0m\u001b[0;34m(\u001b[0m\u001b[0mindexer\u001b[0m\u001b[0;34m)\u001b[0m\u001b[0;34m:\u001b[0m\u001b[0;34m\u001b[0m\u001b[0;34m\u001b[0m\u001b[0m\n\u001b[1;32m   4104\u001b[0m                 \u001b[0mindexer\u001b[0m \u001b[0;34m=\u001b[0m \u001b[0;34m[\u001b[0m\u001b[0mindexer\u001b[0m\u001b[0;34m]\u001b[0m\u001b[0;34m\u001b[0m\u001b[0;34m\u001b[0m\u001b[0m\n",
            "\u001b[0;32m/usr/local/lib/python3.10/dist-packages/pandas/core/indexes/base.py\u001b[0m in \u001b[0;36mget_loc\u001b[0;34m(self, key)\u001b[0m\n\u001b[1;32m   3810\u001b[0m             ):\n\u001b[1;32m   3811\u001b[0m                 \u001b[0;32mraise\u001b[0m \u001b[0mInvalidIndexError\u001b[0m\u001b[0;34m(\u001b[0m\u001b[0mkey\u001b[0m\u001b[0;34m)\u001b[0m\u001b[0;34m\u001b[0m\u001b[0;34m\u001b[0m\u001b[0m\n\u001b[0;32m-> 3812\u001b[0;31m             \u001b[0;32mraise\u001b[0m \u001b[0mKeyError\u001b[0m\u001b[0;34m(\u001b[0m\u001b[0mkey\u001b[0m\u001b[0;34m)\u001b[0m \u001b[0;32mfrom\u001b[0m \u001b[0merr\u001b[0m\u001b[0;34m\u001b[0m\u001b[0;34m\u001b[0m\u001b[0m\n\u001b[0m\u001b[1;32m   3813\u001b[0m         \u001b[0;32mexcept\u001b[0m \u001b[0mTypeError\u001b[0m\u001b[0;34m:\u001b[0m\u001b[0;34m\u001b[0m\u001b[0;34m\u001b[0m\u001b[0m\n\u001b[1;32m   3814\u001b[0m             \u001b[0;31m# If we have a listlike key, _check_indexing_error will raise\u001b[0m\u001b[0;34m\u001b[0m\u001b[0;34m\u001b[0m\u001b[0m\n",
            "\u001b[0;31mKeyError\u001b[0m: 'anio_hecho'"
          ]
        }
      ]
    },
    {
      "cell_type": "code",
      "source": [],
      "metadata": {
        "colab": {
          "base_uri": "https://localhost:8080/",
          "height": 109
        },
        "id": "p26BWQ8v47ku",
        "outputId": "2c9c64bd-a50e-4373-cad1-99b74a6f514c"
      },
      "execution_count": 43,
      "outputs": [
        {
          "output_type": "execute_result",
          "data": {
            "text/plain": [
              "Empty DataFrame\n",
              "Columns: [anio_hecho, latitud, longitud, fueDiaFestivo, finSemana, mes_hecho_seno, mes_hecho_coseno, dia_hecho_seno, dia_hecho_coseno, hora_hecho_seno, hora_hecho_coseno, minutos_hecho_seno, minutos_hecho_coseno, segundos_hecho_seno, segundos_hecho_coseno]\n",
              "Index: []"
            ],
            "text/html": [
              "\n",
              "  <div id=\"df-671923a6-9917-468c-abc9-54881fdc7857\" class=\"colab-df-container\">\n",
              "    <div>\n",
              "<style scoped>\n",
              "    .dataframe tbody tr th:only-of-type {\n",
              "        vertical-align: middle;\n",
              "    }\n",
              "\n",
              "    .dataframe tbody tr th {\n",
              "        vertical-align: top;\n",
              "    }\n",
              "\n",
              "    .dataframe thead th {\n",
              "        text-align: right;\n",
              "    }\n",
              "</style>\n",
              "<table border=\"1\" class=\"dataframe\">\n",
              "  <thead>\n",
              "    <tr style=\"text-align: right;\">\n",
              "      <th></th>\n",
              "      <th>anio_hecho</th>\n",
              "      <th>latitud</th>\n",
              "      <th>longitud</th>\n",
              "      <th>fueDiaFestivo</th>\n",
              "      <th>finSemana</th>\n",
              "      <th>mes_hecho_seno</th>\n",
              "      <th>mes_hecho_coseno</th>\n",
              "      <th>dia_hecho_seno</th>\n",
              "      <th>dia_hecho_coseno</th>\n",
              "      <th>hora_hecho_seno</th>\n",
              "      <th>hora_hecho_coseno</th>\n",
              "      <th>minutos_hecho_seno</th>\n",
              "      <th>minutos_hecho_coseno</th>\n",
              "      <th>segundos_hecho_seno</th>\n",
              "      <th>segundos_hecho_coseno</th>\n",
              "    </tr>\n",
              "  </thead>\n",
              "  <tbody>\n",
              "  </tbody>\n",
              "</table>\n",
              "</div>\n",
              "    <div class=\"colab-df-buttons\">\n",
              "\n",
              "  <div class=\"colab-df-container\">\n",
              "    <button class=\"colab-df-convert\" onclick=\"convertToInteractive('df-671923a6-9917-468c-abc9-54881fdc7857')\"\n",
              "            title=\"Convert this dataframe to an interactive table.\"\n",
              "            style=\"display:none;\">\n",
              "\n",
              "  <svg xmlns=\"http://www.w3.org/2000/svg\" height=\"24px\" viewBox=\"0 -960 960 960\">\n",
              "    <path d=\"M120-120v-720h720v720H120Zm60-500h600v-160H180v160Zm220 220h160v-160H400v160Zm0 220h160v-160H400v160ZM180-400h160v-160H180v160Zm440 0h160v-160H620v160ZM180-180h160v-160H180v160Zm440 0h160v-160H620v160Z\"/>\n",
              "  </svg>\n",
              "    </button>\n",
              "\n",
              "  <style>\n",
              "    .colab-df-container {\n",
              "      display:flex;\n",
              "      gap: 12px;\n",
              "    }\n",
              "\n",
              "    .colab-df-convert {\n",
              "      background-color: #E8F0FE;\n",
              "      border: none;\n",
              "      border-radius: 50%;\n",
              "      cursor: pointer;\n",
              "      display: none;\n",
              "      fill: #1967D2;\n",
              "      height: 32px;\n",
              "      padding: 0 0 0 0;\n",
              "      width: 32px;\n",
              "    }\n",
              "\n",
              "    .colab-df-convert:hover {\n",
              "      background-color: #E2EBFA;\n",
              "      box-shadow: 0px 1px 2px rgba(60, 64, 67, 0.3), 0px 1px 3px 1px rgba(60, 64, 67, 0.15);\n",
              "      fill: #174EA6;\n",
              "    }\n",
              "\n",
              "    .colab-df-buttons div {\n",
              "      margin-bottom: 4px;\n",
              "    }\n",
              "\n",
              "    [theme=dark] .colab-df-convert {\n",
              "      background-color: #3B4455;\n",
              "      fill: #D2E3FC;\n",
              "    }\n",
              "\n",
              "    [theme=dark] .colab-df-convert:hover {\n",
              "      background-color: #434B5C;\n",
              "      box-shadow: 0px 1px 3px 1px rgba(0, 0, 0, 0.15);\n",
              "      filter: drop-shadow(0px 1px 2px rgba(0, 0, 0, 0.3));\n",
              "      fill: #FFFFFF;\n",
              "    }\n",
              "  </style>\n",
              "\n",
              "    <script>\n",
              "      const buttonEl =\n",
              "        document.querySelector('#df-671923a6-9917-468c-abc9-54881fdc7857 button.colab-df-convert');\n",
              "      buttonEl.style.display =\n",
              "        google.colab.kernel.accessAllowed ? 'block' : 'none';\n",
              "\n",
              "      async function convertToInteractive(key) {\n",
              "        const element = document.querySelector('#df-671923a6-9917-468c-abc9-54881fdc7857');\n",
              "        const dataTable =\n",
              "          await google.colab.kernel.invokeFunction('convertToInteractive',\n",
              "                                                    [key], {});\n",
              "        if (!dataTable) return;\n",
              "\n",
              "        const docLinkHtml = 'Like what you see? Visit the ' +\n",
              "          '<a target=\"_blank\" href=https://colab.research.google.com/notebooks/data_table.ipynb>data table notebook</a>'\n",
              "          + ' to learn more about interactive tables.';\n",
              "        element.innerHTML = '';\n",
              "        dataTable['output_type'] = 'display_data';\n",
              "        await google.colab.output.renderOutput(dataTable, element);\n",
              "        const docLink = document.createElement('div');\n",
              "        docLink.innerHTML = docLinkHtml;\n",
              "        element.appendChild(docLink);\n",
              "      }\n",
              "    </script>\n",
              "  </div>\n",
              "\n",
              "\n",
              "  <div id=\"id_ba213ac9-26f6-4e8d-9578-436ca9fecb8b\">\n",
              "    <style>\n",
              "      .colab-df-generate {\n",
              "        background-color: #E8F0FE;\n",
              "        border: none;\n",
              "        border-radius: 50%;\n",
              "        cursor: pointer;\n",
              "        display: none;\n",
              "        fill: #1967D2;\n",
              "        height: 32px;\n",
              "        padding: 0 0 0 0;\n",
              "        width: 32px;\n",
              "      }\n",
              "\n",
              "      .colab-df-generate:hover {\n",
              "        background-color: #E2EBFA;\n",
              "        box-shadow: 0px 1px 2px rgba(60, 64, 67, 0.3), 0px 1px 3px 1px rgba(60, 64, 67, 0.15);\n",
              "        fill: #174EA6;\n",
              "      }\n",
              "\n",
              "      [theme=dark] .colab-df-generate {\n",
              "        background-color: #3B4455;\n",
              "        fill: #D2E3FC;\n",
              "      }\n",
              "\n",
              "      [theme=dark] .colab-df-generate:hover {\n",
              "        background-color: #434B5C;\n",
              "        box-shadow: 0px 1px 3px 1px rgba(0, 0, 0, 0.15);\n",
              "        filter: drop-shadow(0px 1px 2px rgba(0, 0, 0, 0.3));\n",
              "        fill: #FFFFFF;\n",
              "      }\n",
              "    </style>\n",
              "    <button class=\"colab-df-generate\" onclick=\"generateWithVariable('baseDatosEntrenamientoPrueba')\"\n",
              "            title=\"Generate code using this dataframe.\"\n",
              "            style=\"display:none;\">\n",
              "\n",
              "  <svg xmlns=\"http://www.w3.org/2000/svg\" height=\"24px\"viewBox=\"0 0 24 24\"\n",
              "       width=\"24px\">\n",
              "    <path d=\"M7,19H8.4L18.45,9,17,7.55,7,17.6ZM5,21V16.75L18.45,3.32a2,2,0,0,1,2.83,0l1.4,1.43a1.91,1.91,0,0,1,.58,1.4,1.91,1.91,0,0,1-.58,1.4L9.25,21ZM18.45,9,17,7.55Zm-12,3A5.31,5.31,0,0,0,4.9,8.1,5.31,5.31,0,0,0,1,6.5,5.31,5.31,0,0,0,4.9,4.9,5.31,5.31,0,0,0,6.5,1,5.31,5.31,0,0,0,8.1,4.9,5.31,5.31,0,0,0,12,6.5,5.46,5.46,0,0,0,6.5,12Z\"/>\n",
              "  </svg>\n",
              "    </button>\n",
              "    <script>\n",
              "      (() => {\n",
              "      const buttonEl =\n",
              "        document.querySelector('#id_ba213ac9-26f6-4e8d-9578-436ca9fecb8b button.colab-df-generate');\n",
              "      buttonEl.style.display =\n",
              "        google.colab.kernel.accessAllowed ? 'block' : 'none';\n",
              "\n",
              "      buttonEl.onclick = () => {\n",
              "        google.colab.notebook.generateWithVariable('baseDatosEntrenamientoPrueba');\n",
              "      }\n",
              "      })();\n",
              "    </script>\n",
              "  </div>\n",
              "\n",
              "    </div>\n",
              "  </div>\n"
            ],
            "application/vnd.google.colaboratory.intrinsic+json": {
              "type": "dataframe",
              "variable_name": "baseDatosEntrenamientoPrueba",
              "summary": "{\n  \"name\": \"baseDatosEntrenamientoPrueba\",\n  \"rows\": 0,\n  \"fields\": [\n    {\n      \"column\": \"anio_hecho\",\n      \"properties\": {\n        \"dtype\": \"number\",\n        \"std\": null,\n        \"min\": null,\n        \"max\": null,\n        \"num_unique_values\": 0,\n        \"samples\": [],\n        \"semantic_type\": \"\",\n        \"description\": \"\"\n      }\n    },\n    {\n      \"column\": \"latitud\",\n      \"properties\": {\n        \"dtype\": \"number\",\n        \"std\": null,\n        \"min\": null,\n        \"max\": null,\n        \"num_unique_values\": 0,\n        \"samples\": [],\n        \"semantic_type\": \"\",\n        \"description\": \"\"\n      }\n    },\n    {\n      \"column\": \"longitud\",\n      \"properties\": {\n        \"dtype\": \"number\",\n        \"std\": null,\n        \"min\": null,\n        \"max\": null,\n        \"num_unique_values\": 0,\n        \"samples\": [],\n        \"semantic_type\": \"\",\n        \"description\": \"\"\n      }\n    },\n    {\n      \"column\": \"fueDiaFestivo\",\n      \"properties\": {\n        \"dtype\": \"number\",\n        \"std\": null,\n        \"min\": null,\n        \"max\": null,\n        \"num_unique_values\": 0,\n        \"samples\": [],\n        \"semantic_type\": \"\",\n        \"description\": \"\"\n      }\n    },\n    {\n      \"column\": \"finSemana\",\n      \"properties\": {\n        \"dtype\": \"number\",\n        \"std\": null,\n        \"min\": null,\n        \"max\": null,\n        \"num_unique_values\": 0,\n        \"samples\": [],\n        \"semantic_type\": \"\",\n        \"description\": \"\"\n      }\n    },\n    {\n      \"column\": \"mes_hecho_seno\",\n      \"properties\": {\n        \"dtype\": \"number\",\n        \"std\": null,\n        \"min\": null,\n        \"max\": null,\n        \"num_unique_values\": 0,\n        \"samples\": [],\n        \"semantic_type\": \"\",\n        \"description\": \"\"\n      }\n    },\n    {\n      \"column\": \"mes_hecho_coseno\",\n      \"properties\": {\n        \"dtype\": \"number\",\n        \"std\": null,\n        \"min\": null,\n        \"max\": null,\n        \"num_unique_values\": 0,\n        \"samples\": [],\n        \"semantic_type\": \"\",\n        \"description\": \"\"\n      }\n    },\n    {\n      \"column\": \"dia_hecho_seno\",\n      \"properties\": {\n        \"dtype\": \"number\",\n        \"std\": null,\n        \"min\": null,\n        \"max\": null,\n        \"num_unique_values\": 0,\n        \"samples\": [],\n        \"semantic_type\": \"\",\n        \"description\": \"\"\n      }\n    },\n    {\n      \"column\": \"dia_hecho_coseno\",\n      \"properties\": {\n        \"dtype\": \"number\",\n        \"std\": null,\n        \"min\": null,\n        \"max\": null,\n        \"num_unique_values\": 0,\n        \"samples\": [],\n        \"semantic_type\": \"\",\n        \"description\": \"\"\n      }\n    },\n    {\n      \"column\": \"hora_hecho_seno\",\n      \"properties\": {\n        \"dtype\": \"number\",\n        \"std\": null,\n        \"min\": null,\n        \"max\": null,\n        \"num_unique_values\": 0,\n        \"samples\": [],\n        \"semantic_type\": \"\",\n        \"description\": \"\"\n      }\n    },\n    {\n      \"column\": \"hora_hecho_coseno\",\n      \"properties\": {\n        \"dtype\": \"number\",\n        \"std\": null,\n        \"min\": null,\n        \"max\": null,\n        \"num_unique_values\": 0,\n        \"samples\": [],\n        \"semantic_type\": \"\",\n        \"description\": \"\"\n      }\n    },\n    {\n      \"column\": \"minutos_hecho_seno\",\n      \"properties\": {\n        \"dtype\": \"number\",\n        \"std\": null,\n        \"min\": null,\n        \"max\": null,\n        \"num_unique_values\": 0,\n        \"samples\": [],\n        \"semantic_type\": \"\",\n        \"description\": \"\"\n      }\n    },\n    {\n      \"column\": \"minutos_hecho_coseno\",\n      \"properties\": {\n        \"dtype\": \"number\",\n        \"std\": null,\n        \"min\": null,\n        \"max\": null,\n        \"num_unique_values\": 0,\n        \"samples\": [],\n        \"semantic_type\": \"\",\n        \"description\": \"\"\n      }\n    },\n    {\n      \"column\": \"segundos_hecho_seno\",\n      \"properties\": {\n        \"dtype\": \"number\",\n        \"std\": null,\n        \"min\": null,\n        \"max\": null,\n        \"num_unique_values\": 0,\n        \"samples\": [],\n        \"semantic_type\": \"\",\n        \"description\": \"\"\n      }\n    },\n    {\n      \"column\": \"segundos_hecho_coseno\",\n      \"properties\": {\n        \"dtype\": \"number\",\n        \"std\": null,\n        \"min\": null,\n        \"max\": null,\n        \"num_unique_values\": 0,\n        \"samples\": [],\n        \"semantic_type\": \"\",\n        \"description\": \"\"\n      }\n    }\n  ]\n}"
            }
          },
          "metadata": {},
          "execution_count": 43
        }
      ]
    },
    {
      "cell_type": "code",
      "source": [
        "X = baseDatosEntrenamientoPrueba.loc[:, baseDatosEntrenamientoPrueba.columns != 'categoria_delito']\n",
        "X = X.loc[:, :'segundos_hecho_coseno']\n",
        "y = baseDatosEntrenamientoPrueba.loc[:,'delito de bajo impacto':]"
      ],
      "metadata": {
        "id": "IJA_WS304M1E"
      },
      "execution_count": null,
      "outputs": []
    }
  ],
  "metadata": {
    "accelerator": "TPU",
    "colab": {
      "gpuType": "V28",
      "provenance": []
    },
    "kernelspec": {
      "display_name": "Python 3",
      "name": "python3"
    },
    "language_info": {
      "name": "python"
    }
  },
  "nbformat": 4,
  "nbformat_minor": 0
}